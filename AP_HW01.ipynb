{
 "cells": [
  {
   "cell_type": "code",
   "execution_count": 17,
   "metadata": {},
   "outputs": [
    {
     "name": "stdout",
     "output_type": "stream",
     "text": [
      "taking a quick look at Hamlet\n",
      "this is page 34 of Hamlet\n",
      "there is no such a page in this book!\n",
      "A1325 is borrowing Hamlet\n",
      "B1325 didn't borrow Hamlet\n",
      "A1325 is returning Hamlet\n"
     ]
    }
   ],
   "source": [
    "class booktype :\n",
    "    def __init__(self, type, bookshelf) : \n",
    "        self.type = type\n",
    "        self.bookshelf = bookshelf \n",
    "\n",
    "class book(booktype) :\n",
    "    def __init__(self,name, type , bookshelf, book_ID, author, number_of_pages, publisher, edition, price) :\n",
    "        super().__init__(type , bookshelf)\n",
    "        self.name = name\n",
    "        self.book_ID = book_ID\n",
    "        self.author = author\n",
    "        self.number_of_pages = number_of_pages\n",
    "        self.publisher = publisher\n",
    "        self.edition = edition\n",
    "        self.price = price\n",
    "    \n",
    "    def __str__(self):\n",
    "        return f\"{self.name}\"\n",
    "\n",
    "    def glance(self) :\n",
    "        print(f\"taking a quick look at {self}\")\n",
    "    \n",
    "    def read(self, desk_number) :\n",
    "        self.desk_number = desk_number\n",
    "        print(f\"sitting at desk number {desk_number} and reading the book\")\n",
    "\n",
    "    def turn_to_page(self, page) :\n",
    "        self.page = page \n",
    "        if self.page <= self.number_of_pages :\n",
    "            print(f\"this is page {self.page} of {self.name}\")\n",
    "        else :\n",
    "            print(\"there is no such a page in this book!\")\n",
    "\n",
    "    def borrows(self, borrower_ID) :\n",
    "        self.borrower_ID = borrower_ID # who is borrowing this book ?\n",
    "        print(f\"{self.borrower_ID} is borrowing {self}\")\n",
    "    \n",
    "    def returns(self, returner_ID) :\n",
    "        self.returner_ID = returner_ID\n",
    "        # if a book is not borrowed, it can't be returned \n",
    "        # in that case there will be an error\n",
    "        if self.returner_ID == self.borrower_ID :\n",
    "            print(f\"{self.returner_ID} is returning {self}\")\n",
    "        else :\n",
    "            print(f\"{returner_ID} didn't borrow {self}\") # you can't return a book that you haven't borrowed \n",
    "\n",
    "\n",
    "Hamlet = book(\"Hamlet\",\"screenplay\", 3, 242, \"William Shakespeare\", 115, \"bidgol\", \"7th\", 80000)\n",
    "Hamlet.glance()\n",
    "Hamlet.turn_to_page(34)\n",
    "Hamlet.turn_to_page(250)\n",
    "Hamlet.borrows(\"A1325\")\n",
    "Hamlet.returns(\"B1325\")\n",
    "Hamlet.returns(\"A1325\")"
   ]
  },
  {
   "cell_type": "code",
   "execution_count": null,
   "metadata": {},
   "outputs": [],
   "source": []
  }
 ],
 "metadata": {
  "kernelspec": {
   "display_name": "Python 3",
   "language": "python",
   "name": "python3"
  },
  "language_info": {
   "codemirror_mode": {
    "name": "ipython",
    "version": 3
   },
   "file_extension": ".py",
   "mimetype": "text/x-python",
   "name": "python",
   "nbconvert_exporter": "python",
   "pygments_lexer": "ipython3",
   "version": "3.9.5"
  },
  "orig_nbformat": 4
 },
 "nbformat": 4,
 "nbformat_minor": 2
}
